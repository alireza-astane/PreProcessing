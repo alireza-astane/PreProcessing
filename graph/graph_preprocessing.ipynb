{
 "cells": [
  {
   "cell_type": "markdown",
   "metadata": {},
   "source": [
    "# Graph Data Preprocessing: Techniques, Examples, and Comparison in Python\n",
    "#### Graph data structures are widely used in applications such as social networks, recommendation systems, fraud detection, and molecular analysis. Preprocessing graph data is crucial for efficient storage, feature extraction, and machine learning applications.\n",
    "#### \n",
    "#### 1️⃣ Graph Data Representation\n",
    "#### Graph data is represented as nodes (vertices) and edges (connections between nodes).\n",
    "#### Common formats include:\n",
    "#### \n",
    "#### Adjacency List: Dictionary-based storage of neighbors.\n",
    "#### Adjacency Matrix: Matrix representation where A[i][j] = 1 if there is an edge between node i and node j.\n",
    "#### Edge List: Stores graph as a list of (node1, node2, weight).\n",
    "#### 📌 Example: Graph Representation in Python (NetworkX)"
   ]
  },
  {
   "cell_type": "code",
   "execution_count": 1,
   "metadata": {},
   "outputs": [
    {
     "data": {
      "image/png": "[encoded data removed]",
      "text/plain": [
       "<Figure size 640x480 with 1 Axes>"
      ]
     },
     "metadata": {},
     "output_type": "display_data"
    }
   ],
   "source": [
    "\n",
    "import networkx as nx\n",
    "import matplotlib.pyplot as plt\n",
    "\n",
    "# Create a graph\n",
    "G = nx.Graph()\n",
    "\n",
    "# Add nodes\n",
    "G.add_nodes_from([1, 2, 3, 4])\n",
    "\n",
    "# Add edges (connections)\n",
    "G.add_edges_from([(1, 2), (2, 3), (3, 4), (4, 1)])\n",
    "\n",
    "# Draw the graph\n",
    "nx.draw(G, with_labels=True, node_color='lightblue', edge_color='gray', node_size=2000)\n",
    "plt.show()\n"
   ]
  },
  {
   "cell_type": "markdown",
   "metadata": {},
   "source": [
    "\n",
    "#### 2️⃣ Graph Cleaning & Normalization\n",
    "#### Why?\n",
    "#### Raw graph data may contain self-loops, duplicate edges, missing nodes, or disconnected components. Cleaning ensures a consistent structure.\n",
    "#### \n",
    "#### 📌 Example: Removing Self-Loops and Isolated Nodes\n"
   ]
  },
  {
   "cell_type": "code",
   "execution_count": 2,
   "metadata": {},
   "outputs": [],
   "source": [
    "\n",
    "# Remove self-loops\n",
    "G.remove_edges_from(nx.selfloop_edges(G))\n",
    "\n",
    "# Remove isolated nodes (nodes with no connections)\n",
    "G.remove_nodes_from(list(nx.isolates(G)))\n"
   ]
  },
  {
   "cell_type": "markdown",
   "metadata": {},
   "source": [
    "\n",
    "#### 📌 Graph Normalization: Convert to Undirected Graph\n",
    "#### Some algorithms work better with undirected graphs:\n",
    "#### \n"
   ]
  },
  {
   "cell_type": "code",
   "execution_count": 3,
   "metadata": {},
   "outputs": [],
   "source": [
    "G = G.to_undirected()"
   ]
  },
  {
   "cell_type": "markdown",
   "metadata": {},
   "source": [
    "#### 3️⃣ Graph Feature Engineering\n",
    "#### Graph-based machine learning requires extracting meaningful features.\n",
    "#### \n",
    "#### 🔹 Degree Centrality (Number of connections per node)"
   ]
  },
  {
   "cell_type": "code",
   "execution_count": 4,
   "metadata": {},
   "outputs": [
    {
     "name": "stdout",
     "output_type": "stream",
     "text": [
      "{1: 0.6666666666666666, 2: 0.6666666666666666, 3: 0.6666666666666666, 4: 0.6666666666666666}\n"
     ]
    }
   ],
   "source": [
    "degree_centrality = nx.degree_centrality(G)\n",
    "print(degree_centrality)"
   ]
  },
  {
   "cell_type": "markdown",
   "metadata": {},
   "source": [
    "#### 🔹 Node Embeddings (Graph Representation for ML)\n",
    "#### Graph embeddings convert nodes into vector representations for machine learning models. Common methods include:\n",
    "#### \n",
    "#### Node2Vec (random walk-based embedding)\n",
    "#### Graph Neural Networks (GNNs)\n",
    "#### 📌 Example: Node2Vec Embeddings"
   ]
  },
  {
   "cell_type": "code",
   "execution_count": 6,
   "metadata": {},
   "outputs": [
    {
     "data": {
      "application/vnd.jupyter.widget-view+json": {
       "model_id": "6fe5c2ae1af9436aa8bcc09b4ee23e77",
       "version_major": 2,
       "version_minor": 0
      },
      "text/plain": [
       "Computing transition probabilities:   0%|          | 0/4 [00:00<?, ?it/s]"
      ]
     },
     "metadata": {},
     "output_type": "display_data"
    },
    {
     "name": "stderr",
     "output_type": "stream",
     "text": [
      "Generating walks (CPU: 1): 100%|██████████| 50/50 [00:00<00:00, 3304.84it/s]\n",
      "Generating walks (CPU: 3): 100%|██████████| 50/50 [00:00<00:00, 3493.04it/s]\n",
      "Generating walks (CPU: 4): 100%|██████████| 50/50 [00:00<00:00, 3068.43it/s]\n",
      "Generating walks (CPU: 2): 100%|██████████| 50/50 [00:00<00:00, 3733.78it/s]\n"
     ]
    },
    {
     "name": "stdout",
     "output_type": "stream",
     "text": [
      "[-0.02422014  0.04038363  0.12533431  0.11410726 -0.06007215 -0.119527\n",
      "  0.07449786  0.26166517  0.03135763 -0.04401523  0.1665313   0.10024224\n",
      "  0.24541232  0.02396291 -0.22606866 -0.1098335  -0.11417197  0.20935833\n",
      "  0.03944528 -0.02712652  0.09154487  0.09485248  0.30888247 -0.24214353\n",
      "  0.05541652  0.21175894 -0.08304259  0.10015973  0.0334189   0.00711167\n",
      "  0.02651892  0.07279377 -0.07693962 -0.158778    0.0214798   0.06093052\n",
      " -0.07728302  0.11385266  0.22521308 -0.10680413  0.04838568  0.01304948\n",
      " -0.18568851 -0.07834963  0.02632993  0.03055111 -0.05831195 -0.13569562\n",
      " -0.185661    0.15130801  0.04059577  0.15413675 -0.01762162  0.2030294\n",
      "  0.08909671 -0.15033485  0.03659113 -0.14900285  0.10201829 -0.21584153\n",
      "  0.0420687  -0.09800953 -0.17690586 -0.07846266]\n"
     ]
    }
   ],
   "source": [
    "from node2vec import Node2Vec\n",
    "\n",
    "# Train Node2Vec model\n",
    "node2vec = Node2Vec(G, dimensions=64, walk_length=30, num_walks=200, workers=4)\n",
    "model = node2vec.fit(window=10, min_count=1, batch_words=4)\n",
    "\n",
    "# Get vector representation of node 1\n",
    "node_embedding = model.wv[1]\n",
    "print(node_embedding)"
   ]
  },
  {
   "cell_type": "markdown",
   "metadata": {},
   "source": [
    "#### 4️⃣ Graph Sampling\n",
    "#### Large graphs can be computationally expensive. Sampling techniques reduce size while preserving structure:\n",
    "#### \n",
    "#### Random Node Sampling: Selects random nodes and their neighbors.\n",
    "#### Random Edge Sampling: Randomly selects edges.\n",
    "#### Induced Subgraph Sampling: Selects a subset of nodes and retains their connections.\n",
    "#### 📌 Example: Random Node Sampling\n"
   ]
  },
  {
   "cell_type": "code",
   "execution_count": 17,
   "metadata": {},
   "outputs": [
    {
     "data": {
      "text/plain": [
       "<networkx.classes.graph.Graph at 0x7f64148ee3f0>"
      ]
     },
     "execution_count": 17,
     "metadata": {},
     "output_type": "execute_result"
    }
   ],
   "source": [
    "\n",
    "import random\n",
    "\n",
    "# Sample 50% of the nodes randomly\n",
    "num_nodes = int(0.5 * G.number_of_nodes())\n",
    "\n",
    "sampled_nodes = random.sample(list(G.nodes()), num_nodes)\n",
    "\n",
    "# Create a subgraph\n",
    "G_sampled = G.subgraph(sampled_nodes)\n",
    "G_sampled"
   ]
  },
  {
   "cell_type": "markdown",
   "metadata": {},
   "source": [
    "#### 5️⃣ Graph Augmentation\n",
    "#### Augmentation is used for data augmentation in graph-based deep learning models.\n",
    "#### \n",
    "#### 🔹 Edge Addition / Deletion\n",
    "#### python\n",
    "#### Copy\n",
    "#### Edit\n",
    "#### G.add_edge(1, 3)  # Add new edge\n",
    "#### G.remove_edge(1, 2)  # Remove an edge\n",
    "#### 🔹 Feature Augmentation\n",
    "#### Assigning node/edge features (e.g., categorical or numerical attributes)."
   ]
  },
  {
   "cell_type": "code",
   "execution_count": 18,
   "metadata": {},
   "outputs": [],
   "source": [
    "\n",
    "nx.set_node_attributes(G, {1: {\"feature\": 0.5}, 2: {\"feature\": 0.8}})\n"
   ]
  },
  {
   "cell_type": "markdown",
   "metadata": {},
   "source": [
    "\n",
    "#### 6️⃣ Graph Transformation (For ML Models)\n",
    "#### Graph data is not directly usable in most ML models. Transformation methods include:\n",
    "#### \n",
    "#### Method\tDescription\tUse Cases\n",
    "#### Adjacency Matrix\tConvert graph to a matrix\tSpectral clustering, GCNs\n",
    "#### Node Embeddings (Node2Vec, DeepWalk)\tRepresent nodes as vectors\tGraph classification, link prediction\n",
    "#### Graph Convolutional Networks (GCN)\tUses deep learning for graph learning\tNode classification, recommendation systems\n",
    "#### 📌 Example: Convert Graph to Adjacency Matrix"
   ]
  },
  {
   "cell_type": "code",
   "execution_count": 22,
   "metadata": {},
   "outputs": [
    {
     "name": "stdout",
     "output_type": "stream",
     "text": [
      "[[0. 1. 0. 1.]\n",
      " [1. 0. 1. 0.]\n",
      " [0. 1. 0. 1.]\n",
      " [1. 0. 1. 0.]]\n"
     ]
    }
   ],
   "source": [
    "import numpy as np\n",
    "\n",
    "adj_matrix = nx.to_numpy_array(G)\n",
    "print(adj_matrix)"
   ]
  },
  {
   "cell_type": "markdown",
   "metadata": {},
   "source": [
    "#### 7️⃣ Graph Partitioning (For Large Graphs)\n",
    "#### Splitting large graphs into smaller subgraphs:\n",
    "#### \n",
    "#### Spectral Clustering (Using Laplacian matrix)\n",
    "#### Min-Cut Partitioning (Divides graph by cutting minimal edges)\n",
    "#### 📌 Example: Spectral Clustering for Graph Partitioning"
   ]
  },
  {
   "cell_type": "code",
   "execution_count": 23,
   "metadata": {},
   "outputs": [
    {
     "name": "stdout",
     "output_type": "stream",
     "text": [
      "Community 0: frozenset({1, 2, 3, 4})\n"
     ]
    }
   ],
   "source": [
    "from networkx.algorithms import community\n",
    "\n",
    "# Spectral clustering-based partitioning\n",
    "partition = community.greedy_modularity_communities(G)\n",
    "\n",
    "# Print partitioned communities\n",
    "for i, community in enumerate(partition):\n",
    "    print(f\"Community {i}: {community}\")\n"
   ]
  },
  {
   "cell_type": "markdown",
   "metadata": {},
   "source": [
    "#### Comparison of Graph Preprocessing Methods\n",
    "#### Method\tPurpose\tBest For\tPros\tCons\n",
    "#### Cleaning (Remove self-loops, isolates, etc.)\tEnsure graph consistency\tGeneral graph processing\tImproves accuracy\tCan lose data\n",
    "#### Feature Engineering (Degree, Embeddings)\tExtract meaningful node properties\tML on graphs\tEnables ML usage\tComputationally heavy\n",
    "#### Graph Sampling (Random Node/Edge Sampling)\tReduce graph size\tLarge-scale graphs\tSpeeds up training\tMay lose information\n",
    "#### Graph Augmentation (Edge addition/deletion)\tData augmentation\tGNNs, link prediction\tHelps generalization\tCan create noise\n",
    "#### Graph Transformation (Adjacency matrix, Embeddings)\tConvert graph for ML\tDeep learning, Clustering\tMakes ML possible\tComputational cost\n",
    "#### Graph Partitioning (Spectral Clustering)\tDivide large graphs\tCommunity detection\tPreserves structure\tExpensive for large graphs\n",
    "#### 🔹 Final Summary\n",
    "#### Graph preprocessing is essential for feature extraction and machine learning compatibility.\n",
    "#### Graph feature engineering (degree, embeddings) provides rich representations.\n",
    "#### Graph sampling & transformation help in handling large-scale graphs.\n",
    "#### Graph partitioning & augmentation improve learning efficiency & generalization.\n",
    "#### Would you like me to extend this with Graph Neural Networks (GNNs) for deep learning on graphs? 🚀"
   ]
  }
 ],
 "metadata": {
  "kernelspec": {
   "display_name": "Python 3",
   "language": "python",
   "name": "python3"
  },
  "language_info": {
   "codemirror_mode": {
    "name": "ipython",
    "version": 3
   },
   "file_extension": ".py",
   "mimetype": "text/x-python",
   "name": "python",
   "nbconvert_exporter": "python",
   "pygments_lexer": "ipython3",
   "version": "3.12.2"
  }
 },
 "nbformat": 4,
 "nbformat_minor": 2
}
